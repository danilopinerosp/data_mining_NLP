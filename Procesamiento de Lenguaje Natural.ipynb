{
 "cells": [
  {
   "cell_type": "markdown",
   "id": "9ca8fd17",
   "metadata": {},
   "source": [
    "# Procesamiento de Lenguaje Natural (NLP)"
   ]
  },
  {
   "cell_type": "code",
   "execution_count": null,
   "id": "ba7bd741",
   "metadata": {},
   "outputs": [],
   "source": []
  },
  {
   "cell_type": "markdown",
   "id": "de98d89d",
   "metadata": {},
   "source": [
    "## 1. Contexto Histórico"
   ]
  },
  {
   "cell_type": "code",
   "execution_count": null,
   "id": "7b7297c4",
   "metadata": {},
   "outputs": [],
   "source": []
  },
  {
   "cell_type": "markdown",
   "id": "fd7e6a0c",
   "metadata": {},
   "source": [
    "## 2. Pre-procesamiento de Datos"
   ]
  },
  {
   "cell_type": "code",
   "execution_count": null,
   "id": "b848c288",
   "metadata": {},
   "outputs": [],
   "source": []
  },
  {
   "cell_type": "markdown",
   "id": "34313d40",
   "metadata": {},
   "source": [
    "## 3. Procesos Estadísticos y computacionales usados"
   ]
  },
  {
   "cell_type": "code",
   "execution_count": null,
   "id": "32e4d2f6",
   "metadata": {},
   "outputs": [],
   "source": []
  },
  {
   "cell_type": "markdown",
   "id": "c26ce30e",
   "metadata": {},
   "source": [
    "## 4. Ejemplo Aplicado"
   ]
  },
  {
   "cell_type": "code",
   "execution_count": null,
   "id": "a12b0093",
   "metadata": {},
   "outputs": [],
   "source": []
  },
  {
   "cell_type": "markdown",
   "id": "47e06556",
   "metadata": {},
   "source": [
    "## 5. Aplicaciones del NLP"
   ]
  },
  {
   "cell_type": "code",
   "execution_count": null,
   "id": "02ddfbaa",
   "metadata": {},
   "outputs": [],
   "source": []
  },
  {
   "cell_type": "markdown",
   "id": "ef167884",
   "metadata": {},
   "source": [
    "## 6. Retos y Problemas del NLP"
   ]
  },
  {
   "cell_type": "code",
   "execution_count": null,
   "id": "83488fcd",
   "metadata": {},
   "outputs": [],
   "source": []
  },
  {
   "cell_type": "markdown",
   "id": "16f7a83a",
   "metadata": {},
   "source": [
    "## 7. Referencias"
   ]
  },
  {
   "cell_type": "code",
   "execution_count": null,
   "id": "aae6bfa7",
   "metadata": {},
   "outputs": [],
   "source": []
  }
 ],
 "metadata": {
  "kernelspec": {
   "display_name": "Python 3 (ipykernel)",
   "language": "python",
   "name": "python3"
  },
  "language_info": {
   "codemirror_mode": {
    "name": "ipython",
    "version": 3
   },
   "file_extension": ".py",
   "mimetype": "text/x-python",
   "name": "python",
   "nbconvert_exporter": "python",
   "pygments_lexer": "ipython3",
   "version": "3.7.11"
  }
 },
 "nbformat": 4,
 "nbformat_minor": 5
}
